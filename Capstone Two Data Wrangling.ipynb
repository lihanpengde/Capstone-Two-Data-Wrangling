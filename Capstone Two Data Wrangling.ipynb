{
 "cells": [
  {
   "cell_type": "code",
   "execution_count": 58,
   "metadata": {},
   "outputs": [],
   "source": [
    "import os\n",
    "import pandas as pd"
   ]
  },
  {
   "cell_type": "code",
   "execution_count": 59,
   "metadata": {},
   "outputs": [],
   "source": [
    "df = pd.read_csv('aaon.us.txt') # Import data from local, the data source is kaggle.com"
   ]
  },
  {
   "cell_type": "code",
   "execution_count": 60,
   "metadata": {},
   "outputs": [
    {
     "name": "stdout",
     "output_type": "stream",
     "text": [
      "         Date    Open    High     Low   Close  Volume  OpenInt\n",
      "0  2005-02-25  2.7985  2.8152  2.7679  2.7958   47033      0.0\n",
      "1  2005-02-28  2.7595  2.8540  2.7486  2.8540   58791      0.0\n",
      "2  2005-03-01  2.8540  2.8540  2.7541  2.8095   88448      0.0\n",
      "3  2005-03-02  2.8124  2.8485  2.7595  2.8235  130879      0.0\n",
      "4  2005-03-03  2.7875  2.8540  2.7541  2.8317  117092      0.0\n",
      "(2118, 7)\n"
     ]
    },
    {
     "data": {
      "text/plain": [
       "True"
      ]
     },
     "execution_count": 60,
     "metadata": {},
     "output_type": "execute_result"
    }
   ],
   "source": [
    "print(df.head()) # Check dataframe and information.\n",
    "print(df.shape)\n",
    "df.isnull().values.any() # Check if there's None."
   ]
  },
  {
   "cell_type": "code",
   "execution_count": 83,
   "metadata": {},
   "outputs": [],
   "source": [
    "# Located columns such as Date, Open, High, Low, Volume\n",
    "# Check each column if it contains None. \n",
    "def daily_difference(High,Low):\n",
    "    difference = High - Low\n",
    "    return difference"
   ]
  },
  {
   "cell_type": "code",
   "execution_count": 91,
   "metadata": {},
   "outputs": [
    {
     "name": "stdout",
     "output_type": "stream",
     "text": [
      "Daily Gap:\n",
      " 0       0.0473\n",
      "1       0.1054\n",
      "2       0.0999\n",
      "3       0.0890\n",
      "4       0.0999\n",
      "         ...  \n",
      "2113    0.3350\n",
      "2114    0.2510\n",
      "2115    0.2510\n",
      "2116    1.2110\n",
      "2117    0.2000\n",
      "Name: Daily_Gap, Length: 2118, dtype: float64\n",
      "0    2.7985\n",
      "1    2.7595\n",
      "2    2.8540\n",
      "3    2.8124\n",
      "4    2.7875\n",
      "Name: Open, dtype: float64\n",
      "False\n",
      "0    2.8152\n",
      "1    2.8540\n",
      "2    2.8540\n",
      "3    2.8485\n",
      "4    2.8540\n",
      "Name: High, dtype: float64\n",
      "False\n",
      "0     47033\n",
      "1     58791\n",
      "2     88448\n",
      "3    130879\n",
      "4    117092\n",
      "Name: Volume, dtype: int64\n",
      "False\n",
      "<class 'pandas.core.series.Series'>\n"
     ]
    }
   ],
   "source": [
    "Open = df['Open']\n",
    "High = df['High']\n",
    "Volume = df['Volume']\n",
    "Date = df['Date']\n",
    "Low = df['Low']\n",
    "df['Daily_Gap'] = daily_difference(df['High'],df['Low'])\n",
    "Daily_Gap=df['Daily_Gap']\n",
    "print('Daily Gap:\\n',df['Daily_Gap'])\n",
    "print(Open.head())\n",
    "print(df['Open'].isnull().values.any())\n",
    "print(High.head())\n",
    "print(df['High'].isnull().values.any())\n",
    "print(Volume.head())\n",
    "print(df['Volume'].isnull().values.any())\n",
    "print(type(Open))"
   ]
  },
  {
   "cell_type": "code",
   "execution_count": 63,
   "metadata": {},
   "outputs": [
    {
     "data": {
      "text/html": [
       "<div>\n",
       "<style scoped>\n",
       "    .dataframe tbody tr th:only-of-type {\n",
       "        vertical-align: middle;\n",
       "    }\n",
       "\n",
       "    .dataframe tbody tr th {\n",
       "        vertical-align: top;\n",
       "    }\n",
       "\n",
       "    .dataframe thead th {\n",
       "        text-align: right;\n",
       "    }\n",
       "</style>\n",
       "<table border=\"1\" class=\"dataframe\">\n",
       "  <thead>\n",
       "    <tr style=\"text-align: right;\">\n",
       "      <th></th>\n",
       "      <th>Open</th>\n",
       "      <th>Volume</th>\n",
       "    </tr>\n",
       "  </thead>\n",
       "  <tbody>\n",
       "    <tr>\n",
       "      <th>count</th>\n",
       "      <td>2118.000000</td>\n",
       "      <td>2.118000e+03</td>\n",
       "    </tr>\n",
       "    <tr>\n",
       "      <th>mean</th>\n",
       "      <td>6.305507</td>\n",
       "      <td>2.307032e+05</td>\n",
       "    </tr>\n",
       "    <tr>\n",
       "      <th>std</th>\n",
       "      <td>2.369292</td>\n",
       "      <td>2.269434e+05</td>\n",
       "    </tr>\n",
       "    <tr>\n",
       "      <th>min</th>\n",
       "      <td>2.759500</td>\n",
       "      <td>2.691000e+03</td>\n",
       "    </tr>\n",
       "    <tr>\n",
       "      <th>25%</th>\n",
       "      <td>4.800900</td>\n",
       "      <td>1.076605e+05</td>\n",
       "    </tr>\n",
       "    <tr>\n",
       "      <th>50%</th>\n",
       "      <td>5.646900</td>\n",
       "      <td>1.744735e+05</td>\n",
       "    </tr>\n",
       "    <tr>\n",
       "      <th>75%</th>\n",
       "      <td>7.994975</td>\n",
       "      <td>2.902662e+05</td>\n",
       "    </tr>\n",
       "    <tr>\n",
       "      <th>max</th>\n",
       "      <td>16.659000</td>\n",
       "      <td>6.370578e+06</td>\n",
       "    </tr>\n",
       "  </tbody>\n",
       "</table>\n",
       "</div>"
      ],
      "text/plain": [
       "              Open        Volume\n",
       "count  2118.000000  2.118000e+03\n",
       "mean      6.305507  2.307032e+05\n",
       "std       2.369292  2.269434e+05\n",
       "min       2.759500  2.691000e+03\n",
       "25%       4.800900  1.076605e+05\n",
       "50%       5.646900  1.744735e+05\n",
       "75%       7.994975  2.902662e+05\n",
       "max      16.659000  6.370578e+06"
      ]
     },
     "execution_count": 63,
     "metadata": {},
     "output_type": "execute_result"
    }
   ],
   "source": [
    "df[['Open','Volume']].describe()"
   ]
  },
  {
   "cell_type": "code",
   "execution_count": 64,
   "metadata": {},
   "outputs": [
    {
     "data": {
      "text/html": [
       "<div>\n",
       "<style scoped>\n",
       "    .dataframe tbody tr th:only-of-type {\n",
       "        vertical-align: middle;\n",
       "    }\n",
       "\n",
       "    .dataframe tbody tr th {\n",
       "        vertical-align: top;\n",
       "    }\n",
       "\n",
       "    .dataframe thead th {\n",
       "        text-align: right;\n",
       "    }\n",
       "</style>\n",
       "<table border=\"1\" class=\"dataframe\">\n",
       "  <thead>\n",
       "    <tr style=\"text-align: right;\">\n",
       "      <th></th>\n",
       "      <th>High</th>\n",
       "      <th>Volume</th>\n",
       "    </tr>\n",
       "  </thead>\n",
       "  <tbody>\n",
       "    <tr>\n",
       "      <th>count</th>\n",
       "      <td>2118.000000</td>\n",
       "      <td>2.118000e+03</td>\n",
       "    </tr>\n",
       "    <tr>\n",
       "      <th>mean</th>\n",
       "      <td>6.419473</td>\n",
       "      <td>2.307032e+05</td>\n",
       "    </tr>\n",
       "    <tr>\n",
       "      <th>std</th>\n",
       "      <td>2.402824</td>\n",
       "      <td>2.269434e+05</td>\n",
       "    </tr>\n",
       "    <tr>\n",
       "      <th>min</th>\n",
       "      <td>2.815200</td>\n",
       "      <td>2.691000e+03</td>\n",
       "    </tr>\n",
       "    <tr>\n",
       "      <th>25%</th>\n",
       "      <td>4.916875</td>\n",
       "      <td>1.076605e+05</td>\n",
       "    </tr>\n",
       "    <tr>\n",
       "      <th>50%</th>\n",
       "      <td>5.749700</td>\n",
       "      <td>1.744735e+05</td>\n",
       "    </tr>\n",
       "    <tr>\n",
       "      <th>75%</th>\n",
       "      <td>8.095400</td>\n",
       "      <td>2.902662e+05</td>\n",
       "    </tr>\n",
       "    <tr>\n",
       "      <th>max</th>\n",
       "      <td>17.374000</td>\n",
       "      <td>6.370578e+06</td>\n",
       "    </tr>\n",
       "  </tbody>\n",
       "</table>\n",
       "</div>"
      ],
      "text/plain": [
       "              High        Volume\n",
       "count  2118.000000  2.118000e+03\n",
       "mean      6.419473  2.307032e+05\n",
       "std       2.402824  2.269434e+05\n",
       "min       2.815200  2.691000e+03\n",
       "25%       4.916875  1.076605e+05\n",
       "50%       5.749700  1.744735e+05\n",
       "75%       8.095400  2.902662e+05\n",
       "max      17.374000  6.370578e+06"
      ]
     },
     "execution_count": 64,
     "metadata": {},
     "output_type": "execute_result"
    }
   ],
   "source": [
    "df[['High','Volume']].describe()"
   ]
  },
  {
   "cell_type": "code",
   "execution_count": 92,
   "metadata": {},
   "outputs": [
    {
     "name": "stdout",
     "output_type": "stream",
     "text": [
      "         Open     High  Volume  Daily_Gap\n",
      "0      2.7985   2.8152   47033     0.0473\n",
      "1      2.7595   2.8540   58791     0.1054\n",
      "2      2.8540   2.8540   88448     0.0999\n",
      "3      2.8124   2.8485  130879     0.0890\n",
      "4      2.7875   2.8540  117092     0.0999\n",
      "...       ...      ...     ...        ...\n",
      "2113  15.3090  15.3470  180027     0.3350\n",
      "2114  15.1810  15.1990  103956     0.2510\n",
      "2115  14.9990  14.9990  120549     0.2510\n",
      "2116  13.8690  15.0770  204510     1.2110\n",
      "2117  14.8050  14.9090  109280     0.2000\n",
      "\n",
      "[2118 rows x 4 columns]\n"
     ]
    }
   ],
   "source": [
    "df2 = pd.concat([Open,High,Volume,Daily_Gap],axis=1)\n",
    "print(df2)"
   ]
  },
  {
   "cell_type": "code",
   "execution_count": 93,
   "metadata": {},
   "outputs": [
    {
     "data": {
      "text/html": [
       "<div>\n",
       "<style scoped>\n",
       "    .dataframe tbody tr th:only-of-type {\n",
       "        vertical-align: middle;\n",
       "    }\n",
       "\n",
       "    .dataframe tbody tr th {\n",
       "        vertical-align: top;\n",
       "    }\n",
       "\n",
       "    .dataframe thead th {\n",
       "        text-align: right;\n",
       "    }\n",
       "</style>\n",
       "<table border=\"1\" class=\"dataframe\">\n",
       "  <thead>\n",
       "    <tr style=\"text-align: right;\">\n",
       "      <th></th>\n",
       "      <th>Open</th>\n",
       "      <th>High</th>\n",
       "      <th>Volume</th>\n",
       "      <th>Daily_Gap</th>\n",
       "    </tr>\n",
       "    <tr>\n",
       "      <th>Date</th>\n",
       "      <th></th>\n",
       "      <th></th>\n",
       "      <th></th>\n",
       "      <th></th>\n",
       "    </tr>\n",
       "  </thead>\n",
       "  <tbody>\n",
       "    <tr>\n",
       "      <th>2005-02-25</th>\n",
       "      <td>2.7985</td>\n",
       "      <td>2.8152</td>\n",
       "      <td>47033</td>\n",
       "      <td>0.0473</td>\n",
       "    </tr>\n",
       "    <tr>\n",
       "      <th>2005-02-28</th>\n",
       "      <td>2.7595</td>\n",
       "      <td>2.8540</td>\n",
       "      <td>58791</td>\n",
       "      <td>0.1054</td>\n",
       "    </tr>\n",
       "    <tr>\n",
       "      <th>2005-03-01</th>\n",
       "      <td>2.8540</td>\n",
       "      <td>2.8540</td>\n",
       "      <td>88448</td>\n",
       "      <td>0.0999</td>\n",
       "    </tr>\n",
       "    <tr>\n",
       "      <th>2005-03-02</th>\n",
       "      <td>2.8124</td>\n",
       "      <td>2.8485</td>\n",
       "      <td>130879</td>\n",
       "      <td>0.0890</td>\n",
       "    </tr>\n",
       "    <tr>\n",
       "      <th>2005-03-03</th>\n",
       "      <td>2.7875</td>\n",
       "      <td>2.8540</td>\n",
       "      <td>117092</td>\n",
       "      <td>0.0999</td>\n",
       "    </tr>\n",
       "    <tr>\n",
       "      <th>...</th>\n",
       "      <td>...</td>\n",
       "      <td>...</td>\n",
       "      <td>...</td>\n",
       "      <td>...</td>\n",
       "    </tr>\n",
       "    <tr>\n",
       "      <th>2013-07-22</th>\n",
       "      <td>15.3090</td>\n",
       "      <td>15.3470</td>\n",
       "      <td>180027</td>\n",
       "      <td>0.3350</td>\n",
       "    </tr>\n",
       "    <tr>\n",
       "      <th>2013-07-23</th>\n",
       "      <td>15.1810</td>\n",
       "      <td>15.1990</td>\n",
       "      <td>103956</td>\n",
       "      <td>0.2510</td>\n",
       "    </tr>\n",
       "    <tr>\n",
       "      <th>2013-07-24</th>\n",
       "      <td>14.9990</td>\n",
       "      <td>14.9990</td>\n",
       "      <td>120549</td>\n",
       "      <td>0.2510</td>\n",
       "    </tr>\n",
       "    <tr>\n",
       "      <th>2013-07-25</th>\n",
       "      <td>13.8690</td>\n",
       "      <td>15.0770</td>\n",
       "      <td>204510</td>\n",
       "      <td>1.2110</td>\n",
       "    </tr>\n",
       "    <tr>\n",
       "      <th>2013-07-26</th>\n",
       "      <td>14.8050</td>\n",
       "      <td>14.9090</td>\n",
       "      <td>109280</td>\n",
       "      <td>0.2000</td>\n",
       "    </tr>\n",
       "  </tbody>\n",
       "</table>\n",
       "<p>2118 rows × 4 columns</p>\n",
       "</div>"
      ],
      "text/plain": [
       "               Open     High  Volume  Daily_Gap\n",
       "Date                                           \n",
       "2005-02-25   2.7985   2.8152   47033     0.0473\n",
       "2005-02-28   2.7595   2.8540   58791     0.1054\n",
       "2005-03-01   2.8540   2.8540   88448     0.0999\n",
       "2005-03-02   2.8124   2.8485  130879     0.0890\n",
       "2005-03-03   2.7875   2.8540  117092     0.0999\n",
       "...             ...      ...     ...        ...\n",
       "2013-07-22  15.3090  15.3470  180027     0.3350\n",
       "2013-07-23  15.1810  15.1990  103956     0.2510\n",
       "2013-07-24  14.9990  14.9990  120549     0.2510\n",
       "2013-07-25  13.8690  15.0770  204510     1.2110\n",
       "2013-07-26  14.8050  14.9090  109280     0.2000\n",
       "\n",
       "[2118 rows x 4 columns]"
      ]
     },
     "execution_count": 93,
     "metadata": {},
     "output_type": "execute_result"
    }
   ],
   "source": [
    "df2.reset_index()\n",
    "df2.set_index(Date)"
   ]
  },
  {
   "cell_type": "code",
   "execution_count": 94,
   "metadata": {},
   "outputs": [
    {
     "name": "stdout",
     "output_type": "stream",
     "text": [
      "            Open                  \n",
      "            mean      min      max\n",
      "Open                              \n",
      "2.7595    2.7595   2.7595   2.7595\n",
      "2.7762    2.7762   2.7762   2.7762\n",
      "2.7790    2.7790   2.7790   2.7790\n",
      "2.7875    2.7875   2.7875   2.7875\n",
      "2.7985    2.7985   2.7985   2.7985\n",
      "...          ...      ...      ...\n",
      "15.8970  15.8970  15.8970  15.8970\n",
      "16.0260  16.0260  16.0260  16.0260\n",
      "16.4380  16.4380  16.4380  16.4380\n",
      "16.5040  16.5040  16.5040  16.5040\n",
      "16.6590  16.6590  16.6590  16.6590\n",
      "\n",
      "[1380 rows x 3 columns]\n"
     ]
    }
   ],
   "source": [
    "grouped_Open = df.groupby(df['Open']).agg({'Open': ['mean', 'min', 'max']})\n",
    "print(grouped_Open)"
   ]
  },
  {
   "cell_type": "code",
   "execution_count": 95,
   "metadata": {},
   "outputs": [
    {
     "name": "stdout",
     "output_type": "stream",
     "text": [
      "            High                  \n",
      "            mean      min      max\n",
      "High                              \n",
      "2.8152    2.8152   2.8152   2.8152\n",
      "2.8290    2.8290   2.8290   2.8290\n",
      "2.8345    2.8345   2.8345   2.8345\n",
      "2.8485    2.8485   2.8485   2.8485\n",
      "2.8540    2.8540   2.8540   2.8540\n",
      "...          ...      ...      ...\n",
      "16.1170  16.1170  16.1170  16.1170\n",
      "16.5170  16.5170  16.5170  16.5170\n",
      "16.6200  16.6200  16.6200  16.6200\n",
      "16.6840  16.6840  16.6840  16.6840\n",
      "17.3740  17.3740  17.3740  17.3740\n",
      "\n",
      "[1394 rows x 3 columns]\n"
     ]
    }
   ],
   "source": [
    "grouped_High = df.groupby(df['High']).agg({'High': ['mean', 'min', 'max']})\n",
    "print(grouped_High)"
   ]
  },
  {
   "cell_type": "code",
   "execution_count": 96,
   "metadata": {},
   "outputs": [
    {
     "name": "stdout",
     "output_type": "stream",
     "text": [
      "<class 'pandas.core.frame.DataFrame'>\n"
     ]
    }
   ],
   "source": [
    "print(type(grouped_High))"
   ]
  },
  {
   "cell_type": "code",
   "execution_count": 97,
   "metadata": {},
   "outputs": [
    {
     "name": "stdout",
     "output_type": "stream",
     "text": [
      "          Volume                  \n",
      "            mean      min      max\n",
      "Volume                            \n",
      "2691        2691     2691     2691\n",
      "5942        5942     5942     5942\n",
      "15009      15009    15009    15009\n",
      "15114      15114    15114    15114\n",
      "17514      17514    17514    17514\n",
      "...          ...      ...      ...\n",
      "1341618  1341618  1341618  1341618\n",
      "1722516  1722516  1722516  1722516\n",
      "1898999  1898999  1898999  1898999\n",
      "1934350  1934350  1934350  1934350\n",
      "6370578  6370578  6370578  6370578\n",
      "\n",
      "[2106 rows x 3 columns]\n"
     ]
    }
   ],
   "source": [
    "grouped_volume = df.groupby(df['Volume']).agg({'Volume': ['mean', 'min', 'max']})\n",
    "print(grouped_volume)"
   ]
  },
  {
   "cell_type": "code",
   "execution_count": null,
   "metadata": {},
   "outputs": [],
   "source": [
    "df2.duplicated() # check cleaned dataframe if there're duplicates"
   ]
  },
  {
   "cell_type": "code",
   "execution_count": null,
   "metadata": {},
   "outputs": [],
   "source": []
  }
 ],
 "metadata": {
  "kernelspec": {
   "display_name": "Python 3",
   "language": "python",
   "name": "python3"
  },
  "language_info": {
   "codemirror_mode": {
    "name": "ipython",
    "version": 3
   },
   "file_extension": ".py",
   "mimetype": "text/x-python",
   "name": "python",
   "nbconvert_exporter": "python",
   "pygments_lexer": "ipython3",
   "version": "3.8.5"
  }
 },
 "nbformat": 4,
 "nbformat_minor": 4
}
